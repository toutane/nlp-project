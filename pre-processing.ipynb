{
 "cells": [
  {
   "cell_type": "code",
   "execution_count": 5,
   "metadata": {},
   "outputs": [],
   "source": [
    "%%bash\n",
    "mkdir -p data\n",
    "\n",
    "files=(\"goemotions_1.csv\" \"goemotions_2.csv\" \"goemotions_3.csv\")\n",
    "base_url=\"https://storage.googleapis.com/gresearch/goemotions/data/full_dataset/\"\n",
    "\n",
    "for file in \"${files[@]}\"; do\n",
    "    if [ ! -f \"data/$file\" ]; then\n",
    "        wget -P data/ \"${base_url}${file}\"\n",
    "    fi\n",
    "done"
   ]
  },
  {
   "cell_type": "code",
   "execution_count": null,
   "metadata": {},
   "outputs": [],
   "source": [
    "import pandas as pd\n",
    "\n",
    "df1 = pd.read_csv(\"data/goemotions_1.csv\")\n",
    "df2 = pd.read_csv(\"data/goemotions_2.csv\")\n",
    "df3 = pd.read_csv(\"data/goemotions_3.csv\")\n",
    "\n",
    "df = pd.concat([df1, df2, df3], ignore_index=True)"
   ]
  }
 ],
 "metadata": {
  "kernelspec": {
   "display_name": ".venv",
   "language": "python",
   "name": "python3"
  },
  "language_info": {
   "codemirror_mode": {
    "name": "ipython",
    "version": 3
   },
   "file_extension": ".py",
   "mimetype": "text/x-python",
   "name": "python",
   "nbconvert_exporter": "python",
   "pygments_lexer": "ipython3",
   "version": "3.13.2"
  }
 },
 "nbformat": 4,
 "nbformat_minor": 2
}
